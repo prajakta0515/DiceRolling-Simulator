{
 "cells": [
  {
   "cell_type": "code",
   "execution_count": 22,
   "id": "e69fbb3a",
   "metadata": {},
   "outputs": [],
   "source": [
    "# Python project Dice rolling stimulator"
   ]
  },
  {
   "cell_type": "code",
   "execution_count": null,
   "id": "c3906079",
   "metadata": {},
   "outputs": [
    {
     "name": "stdout",
     "output_type": "stream",
     "text": [
      "----------\n",
      "|    O   |\n",
      "|    O   |\n",
      "|    O   |\n",
      "----------\n",
      "Press y to roll againy\n",
      "----------\n",
      "|        |\n",
      "| O    O |\n",
      "|        |\n",
      "----------\n",
      "Press y to roll againy\n",
      "----------\n",
      "|        |\n",
      "|    O   |\n",
      "|        |\n",
      "----------\n",
      "Press y to roll againy\n",
      "----------\n",
      "| O    O |\n",
      "|    O   |\n",
      "| O    O |\n",
      "----------\n"
     ]
    }
   ],
   "source": [
    "import random \n",
    "\n",
    "x = \"y\"\n",
    "while x==\"y\":\n",
    "    number = random.randint(1,6)\n",
    "\n",
    "    if number == 1:\n",
    "        print(\"----------\")\n",
    "        print(\"|        |\")\n",
    "        print(\"|    O   |\")\n",
    "        print(\"|        |\")\n",
    "        print(\"----------\")\n",
    "    if number == 2:\n",
    "        print(\"----------\")\n",
    "        print(\"|        |\")\n",
    "        print(\"| O    O |\")\n",
    "        print(\"|        |\")\n",
    "        print(\"----------\")\n",
    "    if number == 3:\n",
    "        print(\"----------\")\n",
    "        print(\"|    O   |\")\n",
    "        print(\"|    O   |\")\n",
    "        print(\"|    O   |\")\n",
    "        print(\"----------\")\n",
    "    if number == 4:\n",
    "        print(\"----------\")\n",
    "        print(\"| O    O |\")\n",
    "        print(\"|        |\")\n",
    "        print(\"| O    O |\")\n",
    "        print(\"----------\")\n",
    "    if number == 5:\n",
    "        print(\"----------\")\n",
    "        print(\"| O    O |\")\n",
    "        print(\"|    O   |\")\n",
    "        print(\"| O    O |\")\n",
    "        print(\"----------\")\n",
    "    if number == 6:\n",
    "        print(\"----------\")\n",
    "        print(\"| O    O |\")\n",
    "        print(\"| O    O |\")\n",
    "        print(\"| O    O |\")\n",
    "        print(\"----------\")\n",
    "    x = input(\"Press y to roll again\")\n",
    "    \n",
    "  "
   ]
  }
 ],
 "metadata": {
  "kernelspec": {
   "display_name": "Python 3 (ipykernel)",
   "language": "python",
   "name": "python3"
  },
  "language_info": {
   "codemirror_mode": {
    "name": "ipython",
    "version": 3
   },
   "file_extension": ".py",
   "mimetype": "text/x-python",
   "name": "python",
   "nbconvert_exporter": "python",
   "pygments_lexer": "ipython3",
   "version": "3.11.5"
  }
 },
 "nbformat": 4,
 "nbformat_minor": 5
}
